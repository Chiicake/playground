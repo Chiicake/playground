{
 "cells": [
  {
   "metadata": {},
   "cell_type": "markdown",
   "source": [
    "## Neural Network\n",
    "Extend `torch.nn.Module` to create a custom neural network.\n",
    "\n",
    "Need to implement __init__ and forward methods.\n",
    "\n",
    "To use the neural network, create an instance of the class and call it with input data."
   ],
   "id": "cda5c99413d6253b"
  },
  {
   "cell_type": "code",
   "id": "initial_id",
   "metadata": {
    "collapsed": true,
    "ExecuteTime": {
     "end_time": "2025-10-27T10:16:05.897317Z",
     "start_time": "2025-10-27T10:16:05.885316Z"
    }
   },
   "source": [
    "import torch\n",
    "class NeutralNetwork(torch.nn.Module):\n",
    "    def __init__(self, num_inputs, num_outputs):\n",
    "        super().__init__()\n",
    "\n",
    "        self.layers = torch.nn.Sequential(\n",
    "            # first layer\n",
    "            torch.nn.Linear(num_inputs, 30),\n",
    "            torch.nn.ReLU(),\n",
    "\n",
    "            # second layer\n",
    "            torch.nn.Linear(30, 20),\n",
    "            torch.nn.ReLU(),\n",
    "\n",
    "            # output layer\n",
    "            torch.nn.Linear(20, num_outputs),\n",
    "        )\n",
    "\n",
    "    def forward(self, x):\n",
    "        return self.layers(x)\n",
    "\n",
    "if __name__ == \"__main__\":\n",
    "    model = NeutralNetwork(2, 1)\n",
    "    x = torch.randn(1, 2)\n",
    "    print(model(x))\n",
    "    print(model)"
   ],
   "outputs": [
    {
     "name": "stdout",
     "output_type": "stream",
     "text": [
      "tensor([[-0.3052]], grad_fn=<AddmmBackward0>)\n",
      "NeutralNetwork(\n",
      "  (layers): Sequential(\n",
      "    (0): Linear(in_features=2, out_features=30, bias=True)\n",
      "    (1): ReLU()\n",
      "    (2): Linear(in_features=30, out_features=20, bias=True)\n",
      "    (3): ReLU()\n",
      "    (4): Linear(in_features=20, out_features=1, bias=True)\n",
      "  )\n",
      ")\n"
     ]
    }
   ],
   "execution_count": 34
  },
  {
   "metadata": {},
   "cell_type": "markdown",
   "source": [
    "## Dataset and DataLoader\n",
    "Extend `torch.utils.data.Dataset` to create a custom dataset.\n",
    "\n",
    "Need to implement __init__, __len__, and __getitem__ methods.\n",
    "\n",
    "DataLoader is used to create batches of data for training and testing."
   ],
   "id": "bd1dfa18c813d4cd"
  },
  {
   "metadata": {
    "ExecuteTime": {
     "end_time": "2025-10-27T10:16:05.955599Z",
     "start_time": "2025-10-27T10:16:05.924569Z"
    }
   },
   "cell_type": "code",
   "source": [
    "from torch.utils.data import Dataset\n",
    "\n",
    "class MyDataset(Dataset):\n",
    "    def __init__(self, data, targets):\n",
    "        self.data = data\n",
    "        self.targets = targets\n",
    "\n",
    "    def __len__(self):\n",
    "        return len(self.data)\n",
    "\n",
    "    def __getitem__(self, idx):\n",
    "        x = self.data[idx]\n",
    "        y = self.targets[idx]\n",
    "        return x, y\n",
    "\n",
    "if __name__ == \"__main__\":\n",
    "    # create custom datasets for training and testing\n",
    "    # y = x[0] - x[1] > 0 ? 0 : 1\n",
    "    X_train = torch.tensor([[-1.2, 3.1], [-0.9, 2.9], [-0.5, 2.6], [2.3, -1.1], [2.7, -1.5]])\n",
    "    Y_train = torch.tensor([[0], [0], [0], [1], [1]])\n",
    "\n",
    "    X_test = torch.tensor([[-0.8, 2.8], [2.6, -1.6], [1.0, 0.0], [0.0, 1.0]])\n",
    "    Y_test = torch.tensor([[0], [1], [1], [0]])\n",
    "\n",
    "    train_dataset = MyDataset(X_train, Y_train)\n",
    "    test_dataset = MyDataset(X_test, Y_test)\n",
    "\n",
    "    # use DataLoader to create batches for training and testing\n",
    "    torch.manual_seed(42)\n",
    "    train_loader = torch.utils.data.DataLoader(train_dataset, batch_size=2, shuffle=True, drop_last=True)\n",
    "    test_loader = torch.utils.data.DataLoader(test_dataset, batch_size=4, shuffle=False, drop_last=True)\n",
    "\n",
    "    # print batches\n",
    "    for batch in train_loader:\n",
    "        print(batch)\n",
    "    for batch in test_loader:\n",
    "        print(batch)"
   ],
   "id": "574f51ddfb8b6f8",
   "outputs": [
    {
     "name": "stdout",
     "output_type": "stream",
     "text": [
      "[tensor([[ 2.3000, -1.1000],\n",
      "        [-0.5000,  2.6000]]), tensor([[1],\n",
      "        [0]])]\n",
      "[tensor([[-0.9000,  2.9000],\n",
      "        [ 2.7000, -1.5000]]), tensor([[0],\n",
      "        [1]])]\n",
      "[tensor([[-0.8000,  2.8000],\n",
      "        [ 2.6000, -1.6000],\n",
      "        [ 1.0000,  0.0000],\n",
      "        [ 0.0000,  1.0000]]), tensor([[0],\n",
      "        [1],\n",
      "        [1],\n",
      "        [0]])]\n"
     ]
    }
   ],
   "execution_count": 35
  },
  {
   "metadata": {},
   "cell_type": "markdown",
   "source": [
    "## Training and Testing\n",
    "`model.train()` means the model is in training mode.\n",
    "\n",
    "`optimizer.zero_grad()` is used to clear the gradients of all optimized tensors.\n",
    "\n",
    "`loss.backward()` is used to compute the gradients of the loss with respect to the model parameters.\n",
    "\n",
    "`optimizer.step()` is used to update the model parameters based on the computed gradients.\n",
    "\n",
    "`model.eval()` means the model is in evaluation mode."
   ],
   "id": "ec6fc4636712721d"
  },
  {
   "metadata": {
    "ExecuteTime": {
     "end_time": "2025-10-27T10:16:48.966883Z",
     "start_time": "2025-10-27T10:16:48.928279Z"
    }
   },
   "cell_type": "code",
   "source": [
    "import torch.nn.functional as F\n",
    "\n",
    "torch.manual_seed(421)\n",
    "model = NeutralNetwork(2, 1)\n",
    "optimizer = torch.optim.SGD(model.parameters(), lr=0.3)\n",
    "\n",
    "num_epochs = 5\n",
    "for epoch in range(num_epochs):\n",
    "    model.train()\n",
    "    for idx, (x, y) in enumerate(train_loader):\n",
    "        logits = model(x)\n",
    "        # loss = F.cross_entropy(logits, y)\n",
    "        loss = F.binary_cross_entropy_with_logits(logits, y.float())\n",
    "        optimizer.zero_grad()\n",
    "        loss.backward()\n",
    "        optimizer.step()\n",
    "\n",
    "        print(f\"Epoch {epoch+1}, Batch {idx+1}, Loss: {loss.item():.4f}\")\n",
    "    model.eval()\n",
    "    with torch.no_grad():\n",
    "        for x, y in test_loader:\n",
    "            logits = model(x)\n",
    "            predictions = torch.round(torch.sigmoid(logits))\n",
    "            accuracy = (predictions == y).float().mean()\n",
    "            print(f\"Test Accuracy: {accuracy.item():.4f}\")\n"
   ],
   "id": "a0924169e0f89b16",
   "outputs": [
    {
     "name": "stdout",
     "output_type": "stream",
     "text": [
      "Epoch 1, Batch 1, Loss: 0.7159\n",
      "Epoch 1, Batch 2, Loss: 0.6601\n",
      "Test Accuracy: 0.5000\n",
      "Epoch 2, Batch 1, Loss: 0.5264\n",
      "Epoch 2, Batch 2, Loss: 0.2586\n",
      "Test Accuracy: 0.5000\n",
      "Epoch 3, Batch 1, Loss: 0.0932\n",
      "Epoch 3, Batch 2, Loss: 0.4155\n",
      "Test Accuracy: 0.7500\n",
      "Epoch 4, Batch 1, Loss: 0.3278\n",
      "Epoch 4, Batch 2, Loss: 0.1913\n",
      "Test Accuracy: 1.0000\n",
      "Epoch 5, Batch 1, Loss: 0.1021\n",
      "Epoch 5, Batch 2, Loss: 0.0877\n",
      "Test Accuracy: 1.0000\n"
     ]
    }
   ],
   "execution_count": 38
  },
  {
   "metadata": {},
   "cell_type": "markdown",
   "source": "### Accuracy computation",
   "id": "38dcb23834fd5540"
  },
  {
   "metadata": {
    "ExecuteTime": {
     "end_time": "2025-10-27T10:17:29.038899Z",
     "start_time": "2025-10-27T10:17:29.025905Z"
    }
   },
   "cell_type": "code",
   "source": [
    "def compute_accuracy(model, data_loader):\n",
    "    model.eval()\n",
    "    with torch.no_grad():\n",
    "        total_correct = 0\n",
    "        total_samples = 0\n",
    "        for x, y in data_loader:\n",
    "            logits = model(x)\n",
    "            predictions = torch.round(torch.sigmoid(logits))\n",
    "            total_correct += (predictions == y).sum().item()\n",
    "            total_samples += y.size(0)\n",
    "        accuracy = total_correct / total_samples\n",
    "        return accuracy\n",
    "\n",
    "print(f\"Test Accuracy: {compute_accuracy(model, test_loader):.4f}\")"
   ],
   "id": "e2ee44b55a184f40",
   "outputs": [
    {
     "name": "stdout",
     "output_type": "stream",
     "text": [
      "Test Accuracy: 1.0000\n"
     ]
    }
   ],
   "execution_count": 39
  },
  {
   "metadata": {},
   "cell_type": "markdown",
   "source": [
    "## Save and Load Model\n",
    "Use torch.save to save the model state_dict.\n",
    "\n",
    "Use torch.load to load the model state_dict."
   ],
   "id": "4727e87149a8d11c"
  },
  {
   "metadata": {
    "ExecuteTime": {
     "end_time": "2025-10-27T10:20:06.812812Z",
     "start_time": "2025-10-27T10:20:06.783909Z"
    }
   },
   "cell_type": "code",
   "source": [
    "torch.save(model.state_dict(), \"./models/first_model.pth\")\n",
    "\n",
    "modelLoaded = NeutralNetwork(2, 1)\n",
    "modelLoaded.load_state_dict(torch.load(\"./models/first_model.pth\"))\n",
    "print(f\"Test Accuracy: {compute_accuracy(modelLoaded, test_loader):.4f}\")"
   ],
   "id": "280f8bb67f0f37dc",
   "outputs": [
    {
     "name": "stdout",
     "output_type": "stream",
     "text": [
      "Test Accuracy: 1.0000\n"
     ]
    }
   ],
   "execution_count": 42
  },
  {
   "metadata": {},
   "cell_type": "markdown",
   "source": [
    "## Using GPU\n",
    "`tensor.to(\"cuda\")` means move the tensor to GPU."
   ],
   "id": "38f95a32ba5427c6"
  },
  {
   "metadata": {
    "ExecuteTime": {
     "end_time": "2025-10-27T10:21:58.271246Z",
     "start_time": "2025-10-27T10:21:58.258729Z"
    }
   },
   "cell_type": "code",
   "source": "print(torch.cuda.is_available())",
   "id": "39e333af14e4b522",
   "outputs": [
    {
     "name": "stdout",
     "output_type": "stream",
     "text": [
      "False\n"
     ]
    }
   ],
   "execution_count": 43
  }
 ],
 "metadata": {
  "kernelspec": {
   "display_name": "Python 3",
   "language": "python",
   "name": "python3"
  },
  "language_info": {
   "codemirror_mode": {
    "name": "ipython",
    "version": 2
   },
   "file_extension": ".py",
   "mimetype": "text/x-python",
   "name": "python",
   "nbconvert_exporter": "python",
   "pygments_lexer": "ipython2",
   "version": "2.7.6"
  }
 },
 "nbformat": 4,
 "nbformat_minor": 5
}

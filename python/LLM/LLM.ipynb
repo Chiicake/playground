{
 "cells": [
  {
   "metadata": {},
   "cell_type": "markdown",
   "source": [
    "# Handle Text\n",
    "\n",
    "## Text Tokenization\n",
    "\n",
    "### Download and Read the Verdict\n",
    "Download the Verdict as a text file, then read the file content."
   ],
   "id": "463d076a7403d0fb"
  },
  {
   "cell_type": "code",
   "id": "initial_id",
   "metadata": {
    "collapsed": true,
    "ExecuteTime": {
     "end_time": "2025-10-29T05:14:35.107064Z",
     "start_time": "2025-10-29T05:14:34.193244Z"
    }
   },
   "source": [
    "import urllib.request\n",
    "from ftplib import ftpcp\n",
    "from msilib import type_key\n",
    "\n",
    "url = (\"https://raw.githubusercontent.com/rasbt/\"\n",
    "       \"LLMs-from-scratch/main/ch02/01_main-chapter-code/\"\n",
    "       \"the-verdict.txt\")\n",
    "file_path = \"./the-verdict.txt\"\n",
    "urllib.request.urlretrieve(url, file_path)\n",
    "\n",
    "with open(file_path, \"r\") as file:\n",
    "    raw_text = file.read()\n",
    "print(f\"Total characters: {len(raw_text)}\")\n",
    "print(raw_text[:100])"
   ],
   "outputs": [
    {
     "name": "stdout",
     "output_type": "stream",
     "text": [
      "Total characters: 20479\n",
      "I HAD always thought Jack Gisburn rather a cheap genius--though a good fellow enough--so it was no g\n"
     ]
    }
   ],
   "execution_count": 14
  },
  {
   "metadata": {},
   "cell_type": "markdown",
   "source": "### Split the Text into Words Using Regex",
   "id": "1c4c96efd9d908e8"
  },
  {
   "metadata": {
    "ExecuteTime": {
     "end_time": "2025-10-29T05:14:35.123065Z",
     "start_time": "2025-10-29T05:14:35.109067Z"
    }
   },
   "cell_type": "code",
   "source": [
    "import re\n",
    "preprocessed = re.split(r'([,.:;?_!\"()\\']|--|\\s)', raw_text)\n",
    "preprocessed = [item.strip() for item in preprocessed if item.strip()]\n",
    "print(len(preprocessed))"
   ],
   "id": "6865b8430a1474d7",
   "outputs": [
    {
     "name": "stdout",
     "output_type": "stream",
     "text": [
      "4690\n"
     ]
    }
   ],
   "execution_count": 15
  },
  {
   "metadata": {},
   "cell_type": "markdown",
   "source": "### Convert the Words to Unique IDs\n",
   "id": "b75a48137d4d231e"
  },
  {
   "metadata": {
    "ExecuteTime": {
     "end_time": "2025-10-29T05:14:35.327987Z",
     "start_time": "2025-10-29T05:14:35.314471Z"
    }
   },
   "cell_type": "code",
   "source": [
    "all_words = sorted(set(preprocessed))\n",
    "vocab_size = len(all_words)\n",
    "print(vocab_size)\n",
    "\n",
    "vocab = {token:integer for integer,token in enumerate(all_words)}\n",
    "for i, item in enumerate(vocab.items()):\n",
    "    print(item)\n",
    "    if i >= 50:\n",
    "        break"
   ],
   "id": "dabdd5fc4bdd2e03",
   "outputs": [
    {
     "name": "stdout",
     "output_type": "stream",
     "text": [
      "1130\n",
      "('!', 0)\n",
      "('\"', 1)\n",
      "(\"'\", 2)\n",
      "('(', 3)\n",
      "(')', 4)\n",
      "(',', 5)\n",
      "('--', 6)\n",
      "('.', 7)\n",
      "(':', 8)\n",
      "(';', 9)\n",
      "('?', 10)\n",
      "('A', 11)\n",
      "('Ah', 12)\n",
      "('Among', 13)\n",
      "('And', 14)\n",
      "('Are', 15)\n",
      "('Arrt', 16)\n",
      "('As', 17)\n",
      "('At', 18)\n",
      "('Be', 19)\n",
      "('Begin', 20)\n",
      "('Burlington', 21)\n",
      "('But', 22)\n",
      "('By', 23)\n",
      "('Carlo', 24)\n",
      "('Chicago', 25)\n",
      "('Claude', 26)\n",
      "('Come', 27)\n",
      "('Croft', 28)\n",
      "('Destroyed', 29)\n",
      "('Devonshire', 30)\n",
      "('Don', 31)\n",
      "('Dubarry', 32)\n",
      "('Emperors', 33)\n",
      "('Florence', 34)\n",
      "('For', 35)\n",
      "('Gallery', 36)\n",
      "('Gideon', 37)\n",
      "('Gisburn', 38)\n",
      "('Gisburns', 39)\n",
      "('Grafton', 40)\n",
      "('Greek', 41)\n",
      "('Grindle', 42)\n",
      "('Grindles', 43)\n",
      "('HAD', 44)\n",
      "('Had', 45)\n",
      "('Hang', 46)\n",
      "('Has', 47)\n",
      "('He', 48)\n",
      "('Her', 49)\n",
      "('Hermia', 50)\n"
     ]
    }
   ],
   "execution_count": 16
  },
  {
   "metadata": {},
   "cell_type": "markdown",
   "source": [
    "### Simple Tokenizer\n",
    "Implement a encode function to convert a text into a sequence of token IDs.\n",
    "\n",
    "Implement a decode function to convert a sequence of token IDs back into a text."
   ],
   "id": "23f4347a09f1b8e3"
  },
  {
   "metadata": {
    "ExecuteTime": {
     "end_time": "2025-10-29T05:14:35.344039Z",
     "start_time": "2025-10-29T05:14:35.329991Z"
    }
   },
   "cell_type": "code",
   "source": [
    "class SimpleTokenizerV1:\n",
    "    def __init__(self, vocab):\n",
    "        self.vocab = vocab\n",
    "        self.inverse_vocab = {integer:token for token, integer in vocab.items()}\n",
    "\n",
    "    def encode(self, text):\n",
    "        preprocessed = re.split(r'([,.:;?_!\"()\\']|--|\\s)', text)\n",
    "        preprocessed = [item.strip() for item in preprocessed if item.strip()]\n",
    "        return [self.vocab[token] for token in preprocessed]\n",
    "\n",
    "    def decode(self, ids):\n",
    "        text = ' '.join([self.inverse_vocab[id] for id in ids])\n",
    "        text = re.sub(r'\\s+([,.:;?_!\"()\\'])', r'\\1', text)\n",
    "        return text\n",
    "\n",
    "tokenizerV1 = SimpleTokenizerV1(vocab)\n",
    "text = \"\"\"It's the last he painted, you know,\" Mrs. Gisburn said with pardonable pride.\"\"\"\"\"\n",
    "ids = tokenizerV1.encode(text)\n",
    "print(ids)\n",
    "decoded_text = tokenizerV1.decode(ids)\n",
    "print(decoded_text)"
   ],
   "id": "1cae35ccaf02aa2",
   "outputs": [
    {
     "name": "stdout",
     "output_type": "stream",
     "text": [
      "[56, 2, 850, 988, 602, 533, 746, 5, 1126, 596, 5, 1, 67, 7, 38, 851, 1108, 754, 793, 7]\n",
      "It' s the last he painted, you know,\" Mrs. Gisburn said with pardonable pride.\n"
     ]
    }
   ],
   "execution_count": 17
  },
  {
   "metadata": {},
   "cell_type": "markdown",
   "source": [
    "### Tokenizer V2\n",
    "We want to handle the unknown words in the text.\n",
    "We will add a special token `<|unk|>` to represent the unknown words.\n",
    "\n",
    "And add a token `<|endoftext|>` to represent the end of the text, thus we can handle multiple texts that from different sources."
   ],
   "id": "38f678f921606de"
  },
  {
   "metadata": {
    "ExecuteTime": {
     "end_time": "2025-10-29T05:14:35.375563Z",
     "start_time": "2025-10-29T05:14:35.354075Z"
    }
   },
   "cell_type": "code",
   "source": [
    "# add the special tokens to the vocab\n",
    "all_tokens = sorted(list(set(preprocessed)))\n",
    "all_tokens.extend([\"<|endoftext|>\", \"<|unk|>\"])\n",
    "vocab = {token:integer for integer,token in enumerate(all_tokens)}\n",
    "\n",
    "class SimpleTokenizerV2:\n",
    "    def __init__(self, vocab):\n",
    "        self.vocab = vocab\n",
    "        self.inverse_vocab = {integer:token for token, integer in vocab.items()}\n",
    "\n",
    "    def encode(self, text):\n",
    "        preprocessed = re.split(r'([,.:;?_!\"()\\']|--|\\s)', text)\n",
    "        preprocessed = [item.strip() for item in preprocessed if item.strip()]\n",
    "        return [self.vocab.get(token, self.vocab[\"<|unk|>\"]) for token in preprocessed]\n",
    "\n",
    "    def decode(self, ids):\n",
    "        text = ' '.join([self.inverse_vocab[id] for id in ids])\n",
    "        text = re.sub(r'\\s+([,.:;?_!\"()\\'])', r'\\1', text)\n",
    "        return text\n",
    "\n",
    "tokenizerV2 = SimpleTokenizerV2(vocab)\n",
    "text1 = \"Hello, do you like tea?\"\n",
    "text2 = \"In the sunlit terraces of the palace.\"\n",
    "text = \" <|endoftext|> \".join((text1, text2))\n",
    "ids = tokenizerV2.encode(text)\n",
    "print(ids)\n",
    "decoded_text = tokenizerV2.decode(ids)\n",
    "print(decoded_text)\n"
   ],
   "id": "54496b82e79e7e22",
   "outputs": [
    {
     "name": "stdout",
     "output_type": "stream",
     "text": [
      "[1131, 5, 355, 1126, 628, 975, 10, 1130, 55, 988, 956, 984, 722, 988, 1131, 7]\n",
      "<|unk|>, do you like tea? <|endoftext|> In the sunlit terraces of the <|unk|>.\n"
     ]
    }
   ],
   "execution_count": 18
  },
  {
   "metadata": {},
   "cell_type": "markdown",
   "source": [
    "### BPE Tokenizer\n",
    "BPE could handle the unknown words in the text by split it into smaller tokens.\n",
    "\n",
    "BPE merge the most frequent pairs of tokens into a new token to make the vocabulary."
   ],
   "id": "55d467d2cf68a428"
  },
  {
   "metadata": {
    "ExecuteTime": {
     "end_time": "2025-10-29T05:14:35.390789Z",
     "start_time": "2025-10-29T05:14:35.377561Z"
    }
   },
   "cell_type": "code",
   "source": [
    "import tiktoken\n",
    "tokenizer = tiktoken.get_encoding(\"gpt2\")\n",
    "text = \"Aiwerkn oker\"\n",
    "ids = tokenizer.encode(text, allowed_special={\"<|endoftext|>\"})\n",
    "print(ids)\n",
    "for id in ids:\n",
    "    print(id, tokenizer.decode([id]))\n",
    "print(tokenizer.decode(ids))"
   ],
   "id": "cebd7becb1ac5db9",
   "outputs": [
    {
     "name": "stdout",
     "output_type": "stream",
     "text": [
      "[32, 14246, 9587, 77, 267, 6122]\n",
      "32 A\n",
      "14246 iw\n",
      "9587 erk\n",
      "77 n\n",
      "267  o\n",
      "6122 ker\n",
      "Aiwerkn oker\n"
     ]
    }
   ],
   "execution_count": 19
  },
  {
   "metadata": {},
   "cell_type": "markdown",
   "source": [
    "## Use Sliding Window to Create Input-Output Pairs\n",
    "### Read and Encode the Verdict"
   ],
   "id": "75b4d72d4d495fd7"
  },
  {
   "metadata": {
    "ExecuteTime": {
     "end_time": "2025-10-29T05:14:35.422396Z",
     "start_time": "2025-10-29T05:14:35.401797Z"
    }
   },
   "cell_type": "code",
   "source": [
    "file_path = \"./the-verdict.txt\"\n",
    "with open(file_path, \"r\") as file:\n",
    "    raw_text = file.read()\n",
    "enc_text = tokenizer.encode(raw_text, allowed_special={\"<|endoftext|>\"})\n",
    "print(len(enc_text))"
   ],
   "id": "c95e6e986b98f227",
   "outputs": [
    {
     "name": "stdout",
     "output_type": "stream",
     "text": [
      "5145\n"
     ]
    }
   ],
   "execution_count": 20
  },
  {
   "metadata": {},
   "cell_type": "markdown",
   "source": [
    "### Create Input-Output Pairs\n",
    "The input will be a sequence of tokens.\n",
    "\n",
    "The output will be the next token in the sequence."
   ],
   "id": "63b6c1a39352d381"
  },
  {
   "metadata": {
    "ExecuteTime": {
     "end_time": "2025-10-29T05:14:35.453016Z",
     "start_time": "2025-10-29T05:14:35.430954Z"
    }
   },
   "cell_type": "code",
   "source": [
    "enc_sample = enc_text[:10]\n",
    "context_size = 4\n",
    "x = enc_sample[:context_size]\n",
    "y = enc_sample[1:context_size + 1]\n",
    "\n",
    "for i in range(1, context_size + 1):\n",
    "    context = enc_sample[:i]\n",
    "    target = enc_sample[i]\n",
    "    print(context, \"->\", target)\n",
    "    print(tokenizer.decode(context), \"->\", tokenizer.decode([target]))"
   ],
   "id": "316d095a9cb58efa",
   "outputs": [
    {
     "name": "stdout",
     "output_type": "stream",
     "text": [
      "[40] -> 367\n",
      "I ->  H\n",
      "[40, 367] -> 2885\n",
      "I H -> AD\n",
      "[40, 367, 2885] -> 1464\n",
      "I HAD ->  always\n",
      "[40, 367, 2885, 1464] -> 1807\n",
      "I HAD always ->  thought\n"
     ]
    }
   ],
   "execution_count": 21
  },
  {
   "metadata": {},
   "cell_type": "markdown",
   "source": [
    "### DataSet and DataLoader\n",
    "We use the sliding window to create the input-output pairs.\n",
    "\n",
    "x is the input sequence of tokens, specifically `text[sample_start: sample_start + context_size]`.\n",
    "\n",
    "y is the target sequence of tokens, specifically `text[sample_start + 1: sample_start + context_size + 1]`.\n",
    "\n",
    "We could generate the input-output pairs from x and y as forementioned.\n",
    "\n",
    "DataSet is to store the tokenized text. DataLoader is to load the data in batches."
   ],
   "id": "2db3f57302f23929"
  },
  {
   "metadata": {
    "ExecuteTime": {
     "end_time": "2025-10-29T05:14:35.513889Z",
     "start_time": "2025-10-29T05:14:35.462016Z"
    }
   },
   "cell_type": "code",
   "source": [
    "import torch\n",
    "from torch.utils.data import Dataset, DataLoader\n",
    "\n",
    "class GPTDataSetV1(Dataset):\n",
    "    def __init__(self, txt, tokenizer, max_length, stride):\n",
    "        self.input_ids = []\n",
    "        self.target_ids = []\n",
    "\n",
    "        token_ids = tokenizer.encode(txt, allowed_special={\"<|endoftext|>\"})\n",
    "        # Use a sliding window to chunk the book into overlapping sequences of max_length\n",
    "        for i in range(0, len(token_ids) - max_length, stride):\n",
    "            input_chunk = token_ids[i:i + max_length]\n",
    "            target_chunk = token_ids[i + 1: i + max_length + 1]\n",
    "            self.input_ids.append(torch.tensor(input_chunk))\n",
    "            self.target_ids.append(torch.tensor(target_chunk))\n",
    "\n",
    "    def __len__(self):\n",
    "        return len(self.input_ids)\n",
    "\n",
    "    def __getitem__(self, idx):\n",
    "        return self.input_ids[idx], self.target_ids[idx]\n",
    "\n",
    "def create_dataloader_v1(txt, batch_size = 4, max_length = 256, stride = 128, shuffle = True, drop_last = True, num_workers = 0):\n",
    "    tokenizer = tiktoken.get_encoding(\"gpt2\")\n",
    "    dataset = GPTDataSetV1(txt, tokenizer, max_length, stride)\n",
    "    return DataLoader(dataset, batch_size = batch_size, shuffle = shuffle, drop_last = drop_last, num_workers = num_workers)\n",
    "\n",
    "file_path = \"./the-verdict.txt\"\n",
    "with open(file_path, \"r\") as file:\n",
    "    raw_text = file.read()\n",
    "\n",
    "dataLoader = create_dataloader_v1(raw_text, batch_size = 8, max_length = 4, stride = 4, shuffle = False, drop_last = True, num_workers = 0)\n",
    "data_iter = iter(dataLoader)\n",
    "first_batch = next(data_iter)\n",
    "print(first_batch)\n"
   ],
   "id": "5870736813c53745",
   "outputs": [
    {
     "name": "stdout",
     "output_type": "stream",
     "text": [
      "[tensor([[   40,   367,  2885,  1464],\n",
      "        [ 1807,  3619,   402,   271],\n",
      "        [10899,  2138,   257,  7026],\n",
      "        [15632,   438,  2016,   257],\n",
      "        [  922,  5891,  1576,   438],\n",
      "        [  568,   340,   373,   645],\n",
      "        [ 1049,  5975,   284,   502],\n",
      "        [  284,  3285,   326,    11]]), tensor([[  367,  2885,  1464,  1807],\n",
      "        [ 3619,   402,   271, 10899],\n",
      "        [ 2138,   257,  7026, 15632],\n",
      "        [  438,  2016,   257,   922],\n",
      "        [ 5891,  1576,   438,   568],\n",
      "        [  340,   373,   645,  1049],\n",
      "        [ 5975,   284,   502,   284],\n",
      "        [ 3285,   326,    11,   287]])]\n"
     ]
    }
   ],
   "execution_count": 22
  },
  {
   "metadata": {},
   "cell_type": "markdown",
   "source": [
    "## Embedding Layer\n",
    "\n",
    "### A Simple Embedding Layer\n",
    "As a simple example, we create an embedding layer.\n",
    "\n",
    "The embedding layer has two parameters:\n",
    "1. The vocabulary size, which is the number of unique tokens in the dataset.\n",
    "2. The embedding dimension, which is the size of the vector representation for each token.\n",
    "\n",
    "The embedding layer receives a tensor of token indices and returns a tensor of token embeddings.\n",
    "For example, the output dim is 5 and the num of tokens is 32, then it will return a tensor of shape (5, 32)."
   ],
   "id": "7e7c000ba4ab83f6"
  },
  {
   "metadata": {
    "ExecuteTime": {
     "end_time": "2025-10-29T05:14:35.623820Z",
     "start_time": "2025-10-29T05:14:35.515846Z"
    }
   },
   "cell_type": "code",
   "source": [
    "vocab_size = tokenizer.n_vocab\n",
    "output_dim = 256\n",
    "embedding_layer = torch.nn.Embedding(vocab_size, output_dim)\n",
    "\n",
    "print(embedding_layer(torch.tensor([3])))"
   ],
   "id": "19e756358679a889",
   "outputs": [
    {
     "name": "stdout",
     "output_type": "stream",
     "text": [
      "tensor([[ 1.3508, -1.8598, -0.0118,  0.2079, -0.2618,  0.3265, -1.8149,  0.6529,\n",
      "         -0.3287, -1.0750, -0.0912, -1.2629, -0.8038, -0.6949, -1.9241, -0.1610,\n",
      "         -0.5784, -0.3690,  0.5334, -1.3042, -1.5085,  0.1200, -1.1431,  0.5031,\n",
      "          1.1665, -0.7804, -0.0446,  0.9216, -1.8906,  0.1068, -2.3847, -0.0861,\n",
      "         -1.2323,  0.1179,  0.6342, -0.1209, -1.3185,  0.6580,  0.3819,  0.1014,\n",
      "         -0.9596,  0.0052, -0.0531,  1.8502,  1.1261,  0.6383,  0.0370, -0.9338,\n",
      "         -0.1465, -0.1950, -0.7656, -0.9903,  0.3351,  0.6924,  0.3694,  1.4485,\n",
      "         -0.5275, -0.1421,  0.0117,  0.5763,  0.0607, -1.9446,  1.7850,  1.7064,\n",
      "         -2.4408,  0.7973, -0.1296,  0.3336, -1.3825,  0.3602, -0.3300,  0.3519,\n",
      "          1.0014,  0.2451, -0.1483,  0.2579, -0.2297,  0.9215, -0.2144, -0.9638,\n",
      "         -0.4389, -0.2243, -0.9896,  1.1348,  0.9901, -0.8904, -0.1129, -0.4865,\n",
      "          1.4034, -2.2548,  0.7619,  1.6823,  1.4197, -0.7306, -0.2989,  0.6654,\n",
      "          0.5423, -0.0160, -0.2074, -1.2101, -0.3045, -0.5214,  0.7420,  1.7914,\n",
      "         -2.2380, -0.1757, -0.2026,  2.0202,  0.3579,  0.4315, -0.0414, -1.3757,\n",
      "         -0.5314, -0.4072, -0.2037, -0.1912,  2.0961, -0.9271, -0.2577, -1.6932,\n",
      "          0.5601, -2.2667, -0.7972, -0.8582, -0.2269,  0.8715, -0.0996,  0.0821,\n",
      "         -0.2153,  1.0422, -0.6888,  1.4440,  0.5797, -0.0556, -0.5706, -2.2059,\n",
      "         -0.7585, -0.7440,  0.6265, -0.8877,  1.2076, -1.3124, -0.3614, -0.9976,\n",
      "          0.6739, -0.1152, -1.1070,  1.0278, -0.8764,  0.8291, -0.5307, -1.8480,\n",
      "         -0.9390,  0.8722, -0.2530,  1.3874, -0.0053,  0.5071,  1.0601,  1.2249,\n",
      "          0.6532,  0.2483, -0.5487,  0.2128,  0.6643, -1.1974,  1.0334,  0.8843,\n",
      "         -0.5486, -0.1040,  1.4656,  1.0663, -1.4543, -0.7471, -1.9486, -0.7240,\n",
      "          0.2061, -0.6840, -1.2644,  0.1543,  0.7374,  1.0892,  0.7148, -1.2755,\n",
      "         -0.7636, -2.0097, -0.1004, -0.5610,  0.5363,  0.3021, -0.9052, -0.4026,\n",
      "          0.6316, -0.2095,  1.8359, -0.1320,  0.9623, -1.1539, -0.4696, -0.1952,\n",
      "          0.1104,  1.2536,  0.3753, -1.3690,  0.8396,  1.6861,  1.7703,  0.9270,\n",
      "          2.1398,  0.4374, -0.4677,  1.4030, -0.0285, -0.0366,  0.5550,  0.4291,\n",
      "         -0.2791, -0.6014, -0.5859,  0.2334,  0.7025, -0.1295,  1.1030,  0.7436,\n",
      "         -0.2780, -1.2176, -0.3040,  0.0809,  1.6249, -0.4976,  2.2130,  1.4682,\n",
      "         -0.5972, -1.0471, -1.8945, -0.0341,  1.0514,  0.8551,  0.4405,  1.1142,\n",
      "          0.5968,  2.1332, -0.2859, -0.5880, -0.1961,  1.3751, -0.3862, -0.4187,\n",
      "         -0.5001, -0.6231,  0.8695,  0.6736, -1.8136, -0.2265,  1.2596, -0.8173]],\n",
      "       grad_fn=<EmbeddingBackward0>)\n"
     ]
    }
   ],
   "execution_count": 23
  },
  {
   "metadata": {},
   "cell_type": "markdown",
   "source": [
    "### Positional Embedding\n",
    "Fixed embedding cannot capture the position of tokens in a sequence.\n",
    "\n",
    "Since the position of tokens does matter with the meaning of the sequence, we could use positional embedding to add the position information to the token embeddings.\n",
    "\n",
    "There are two positional embedding methods:\n",
    "1. Absolute positional embedding\n",
    "2. Relative positional embedding"
   ],
   "id": "7e69b68eba85d211"
  },
  {
   "metadata": {
    "ExecuteTime": {
     "end_time": "2025-10-29T05:14:35.655886Z",
     "start_time": "2025-10-29T05:14:35.626335Z"
    }
   },
   "cell_type": "code",
   "source": [
    "max_length = 4\n",
    "dataLoader = create_dataloader_v1(raw_text, batch_size = 8, max_length = max_length, stride = max_length, shuffle = False, drop_last = True, num_workers = 0)\n",
    "data_iter = iter(dataLoader)\n",
    "inputs, targets = next(data_iter)\n",
    "print(\"Input shape:\", inputs.shape)\n",
    "\n",
    "token_embeddings = embedding_layer(inputs)\n",
    "print(\"Input token embeddings shape:\", token_embeddings.shape)\n",
    "\n",
    "context_length = max_length\n",
    "pos_embedding_layer = torch.nn.Embedding(context_length, output_dim)\n",
    "pos_embeddings = pos_embedding_layer(torch.arange(context_length))\n",
    "print(\"Positional embeddings shape:\", pos_embeddings.shape)\n",
    "\n",
    "# add the positional embeddings to the token embeddings\n",
    "input_embeddings = token_embeddings + pos_embeddings\n",
    "print(\"Input embeddings shape with positional embeddings:\", input_embeddings.shape)\n"
   ],
   "id": "c37e74da05bba794",
   "outputs": [
    {
     "name": "stdout",
     "output_type": "stream",
     "text": [
      "Input shape: torch.Size([8, 4])\n",
      "Input token embeddings shape: torch.Size([8, 4, 256])\n",
      "Positional embeddings shape: torch.Size([4, 256])\n",
      "Input embeddings shape with positional embeddings: torch.Size([8, 4, 256])\n"
     ]
    }
   ],
   "execution_count": 24
  },
  {
   "metadata": {},
   "cell_type": "markdown",
   "source": [
    "# Attention Mechanism\n",
    "The attention mechanism means for each token in sequence, it will add a weighted sum of all tokens in the sequence, thus it could .\n",
    "\n",
    "We will compute the attention score for each token in the sequence.\n",
    "\n",
    "## Simple Attention Mechanism Without Trainable Parameters"
   ],
   "id": "f13dd5f4ebb4ff5e"
  },
  {
   "metadata": {
    "ExecuteTime": {
     "end_time": "2025-10-29T05:38:41.740806Z",
     "start_time": "2025-10-29T05:33:30.414565Z"
    }
   },
   "cell_type": "code",
   "source": [
    "inputs = torch.tensor(\n",
    "    [[0.43, 0.15, 0.89],\n",
    "    [0.55, 0.82, 0.63],\n",
    "    [0.22, 0.18, 0.05],\n",
    "    [0.76, 0.59, 0.92]]\n",
    ")\n",
    "# we assume that the attention score is the dot product of the query and the key\n",
    "# we will query the first token\n",
    "# attention score for the first token is 0.43*0.43 + 0.15*0.15 + 0.89*0.89\n",
    "# attention score for the second token is 0.55*0.43 + 0.82*0.15 + 0.63*0.89\n",
    "# attention score for the third token is 0.22*0.43 + 0.18*0.15 + 0.05*0.89\n",
    "# attention score for the fourth token is 0.76*0.43 + 0.59*0.15 + 0.92*0.89\n",
    "query = inputs[0]\n",
    "attn_scores_2 = torch.empty(inputs.shape[0])\n",
    "for i, x_i in enumerate(inputs):\n",
    "    attn_scores_2[i] = torch.dot(query, x_i)\n",
    "\n",
    "print(\"query.shape:\", query.shape)\n",
    "print(\"attn_scores_2.shape:\", attn_scores_2.shape)\n",
    "print(attn_scores_2)\n"
   ],
   "id": "da19eff0291cfadb",
   "outputs": [
    {
     "name": "stdout",
     "output_type": "stream",
     "text": [
      "query.shape: torch.Size([3])\n",
      "attn_scores_2.shape: torch.Size([4])\n",
      "tensor([0.9995, 0.9202, 0.1661, 1.2341])\n"
     ]
    }
   ],
   "execution_count": 27
  }
 ],
 "metadata": {
  "kernelspec": {
   "display_name": "Python 3",
   "language": "python",
   "name": "python3"
  },
  "language_info": {
   "codemirror_mode": {
    "name": "ipython",
    "version": 2
   },
   "file_extension": ".py",
   "mimetype": "text/x-python",
   "name": "python",
   "nbconvert_exporter": "python",
   "pygments_lexer": "ipython2",
   "version": "2.7.6"
  }
 },
 "nbformat": 4,
 "nbformat_minor": 5
}

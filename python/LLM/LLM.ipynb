{
 "cells": [
  {
   "metadata": {},
   "cell_type": "markdown",
   "source": [
    "# Handle Text\n",
    "\n",
    "## Text Tokenization\n",
    "\n",
    "### Download and Read the Verdict\n",
    "Download the Verdict as a text file, then read the file content."
   ],
   "id": "463d076a7403d0fb"
  },
  {
   "cell_type": "code",
   "id": "initial_id",
   "metadata": {
    "collapsed": true,
    "ExecuteTime": {
     "end_time": "2025-10-31T05:47:41.889679Z",
     "start_time": "2025-10-31T05:47:41.878700Z"
    }
   },
   "source": [
    "import urllib.request\n",
    "from ftplib import ftpcp\n",
    "from msilib import type_key\n",
    "\n",
    "# url = (\"https://raw.githubusercontent.com/rasbt/\"\n",
    "#        \"LLMs-from-scratch/main/ch02/01_main-chapter-code/\"\n",
    "#        \"the-verdict.txt\")\n",
    "# file_path = \"./the-verdict.txt\"\n",
    "# urllib.request.urlretrieve(url, file_path)\n",
    "\n",
    "file_path = \"./the-verdict.txt\"\n",
    "with open(file_path, \"r\") as file:\n",
    "    raw_text = file.read()\n",
    "print(f\"Total characters: {len(raw_text)}\")\n",
    "print(raw_text[:100])"
   ],
   "outputs": [
    {
     "name": "stdout",
     "output_type": "stream",
     "text": [
      "Total characters: 20479\n",
      "I HAD always thought Jack Gisburn rather a cheap genius--though a good fellow enough--so it was no g\n"
     ]
    }
   ],
   "execution_count": 52
  },
  {
   "metadata": {},
   "cell_type": "markdown",
   "source": "### Split the Text into Words Using Regex",
   "id": "1c4c96efd9d908e8"
  },
  {
   "metadata": {
    "ExecuteTime": {
     "end_time": "2025-10-31T05:47:41.992178Z",
     "start_time": "2025-10-31T05:47:41.970464Z"
    }
   },
   "cell_type": "code",
   "source": [
    "import re\n",
    "preprocessed = re.split(r'([,.:;?_!\"()\\']|--|\\s)', raw_text)\n",
    "preprocessed = [item.strip() for item in preprocessed if item.strip()]\n",
    "print(len(preprocessed))"
   ],
   "id": "6865b8430a1474d7",
   "outputs": [
    {
     "name": "stdout",
     "output_type": "stream",
     "text": [
      "4690\n"
     ]
    }
   ],
   "execution_count": 53
  },
  {
   "metadata": {},
   "cell_type": "markdown",
   "source": "### Convert the Words to Unique IDs\n",
   "id": "b75a48137d4d231e"
  },
  {
   "metadata": {
    "ExecuteTime": {
     "end_time": "2025-10-31T05:47:42.082994Z",
     "start_time": "2025-10-31T05:47:42.072646Z"
    }
   },
   "cell_type": "code",
   "source": [
    "all_words = sorted(set(preprocessed))\n",
    "vocab_size = len(all_words)\n",
    "print(vocab_size)\n",
    "\n",
    "vocab = {token:integer for integer,token in enumerate(all_words)}\n",
    "for i, item in enumerate(vocab.items()):\n",
    "    print(item)\n",
    "    if i >= 50:\n",
    "        break"
   ],
   "id": "dabdd5fc4bdd2e03",
   "outputs": [
    {
     "name": "stdout",
     "output_type": "stream",
     "text": [
      "1130\n",
      "('!', 0)\n",
      "('\"', 1)\n",
      "(\"'\", 2)\n",
      "('(', 3)\n",
      "(')', 4)\n",
      "(',', 5)\n",
      "('--', 6)\n",
      "('.', 7)\n",
      "(':', 8)\n",
      "(';', 9)\n",
      "('?', 10)\n",
      "('A', 11)\n",
      "('Ah', 12)\n",
      "('Among', 13)\n",
      "('And', 14)\n",
      "('Are', 15)\n",
      "('Arrt', 16)\n",
      "('As', 17)\n",
      "('At', 18)\n",
      "('Be', 19)\n",
      "('Begin', 20)\n",
      "('Burlington', 21)\n",
      "('But', 22)\n",
      "('By', 23)\n",
      "('Carlo', 24)\n",
      "('Chicago', 25)\n",
      "('Claude', 26)\n",
      "('Come', 27)\n",
      "('Croft', 28)\n",
      "('Destroyed', 29)\n",
      "('Devonshire', 30)\n",
      "('Don', 31)\n",
      "('Dubarry', 32)\n",
      "('Emperors', 33)\n",
      "('Florence', 34)\n",
      "('For', 35)\n",
      "('Gallery', 36)\n",
      "('Gideon', 37)\n",
      "('Gisburn', 38)\n",
      "('Gisburns', 39)\n",
      "('Grafton', 40)\n",
      "('Greek', 41)\n",
      "('Grindle', 42)\n",
      "('Grindles', 43)\n",
      "('HAD', 44)\n",
      "('Had', 45)\n",
      "('Hang', 46)\n",
      "('Has', 47)\n",
      "('He', 48)\n",
      "('Her', 49)\n",
      "('Hermia', 50)\n"
     ]
    }
   ],
   "execution_count": 54
  },
  {
   "metadata": {},
   "cell_type": "markdown",
   "source": [
    "### Simple Tokenizer\n",
    "Implement a encode function to convert a text into a sequence of token IDs.\n",
    "\n",
    "Implement a decode function to convert a sequence of token IDs back into a text."
   ],
   "id": "23f4347a09f1b8e3"
  },
  {
   "metadata": {
    "ExecuteTime": {
     "end_time": "2025-10-31T05:47:42.189444Z",
     "start_time": "2025-10-31T05:47:42.176367Z"
    }
   },
   "cell_type": "code",
   "source": [
    "class SimpleTokenizerV1:\n",
    "    def __init__(self, vocab):\n",
    "        self.vocab = vocab\n",
    "        self.inverse_vocab = {integer:token for token, integer in vocab.items()}\n",
    "\n",
    "    def encode(self, text):\n",
    "        preprocessed = re.split(r'([,.:;?_!\"()\\']|--|\\s)', text)\n",
    "        preprocessed = [item.strip() for item in preprocessed if item.strip()]\n",
    "        return [self.vocab[token] for token in preprocessed]\n",
    "\n",
    "    def decode(self, ids):\n",
    "        text = ' '.join([self.inverse_vocab[id] for id in ids])\n",
    "        text = re.sub(r'\\s+([,.:;?_!\"()\\'])', r'\\1', text)\n",
    "        return text\n",
    "\n",
    "tokenizerV1 = SimpleTokenizerV1(vocab)\n",
    "text = \"\"\"It's the last he painted, you know,\" Mrs. Gisburn said with pardonable pride.\"\"\"\"\"\n",
    "ids = tokenizerV1.encode(text)\n",
    "print(ids)\n",
    "decoded_text = tokenizerV1.decode(ids)\n",
    "print(decoded_text)"
   ],
   "id": "1cae35ccaf02aa2",
   "outputs": [
    {
     "name": "stdout",
     "output_type": "stream",
     "text": [
      "[56, 2, 850, 988, 602, 533, 746, 5, 1126, 596, 5, 1, 67, 7, 38, 851, 1108, 754, 793, 7]\n",
      "It' s the last he painted, you know,\" Mrs. Gisburn said with pardonable pride.\n"
     ]
    }
   ],
   "execution_count": 55
  },
  {
   "metadata": {},
   "cell_type": "markdown",
   "source": [
    "### Tokenizer V2\n",
    "We want to handle the unknown words in the text.\n",
    "We will add a special token `<|unk|>` to represent the unknown words.\n",
    "\n",
    "And add a token `<|endoftext|>` to represent the end of the text, thus we can handle multiple texts that from different sources."
   ],
   "id": "38f678f921606de"
  },
  {
   "metadata": {
    "ExecuteTime": {
     "end_time": "2025-10-31T05:47:42.275024Z",
     "start_time": "2025-10-31T05:47:42.253403Z"
    }
   },
   "cell_type": "code",
   "source": [
    "# add the special tokens to the vocab\n",
    "all_tokens = sorted(list(set(preprocessed)))\n",
    "all_tokens.extend([\"<|endoftext|>\", \"<|unk|>\"])\n",
    "vocab = {token:integer for integer,token in enumerate(all_tokens)}\n",
    "\n",
    "class SimpleTokenizerV2:\n",
    "    def __init__(self, vocab):\n",
    "        self.vocab = vocab\n",
    "        self.inverse_vocab = {integer:token for token, integer in vocab.items()}\n",
    "\n",
    "    def encode(self, text):\n",
    "        preprocessed = re.split(r'([,.:;?_!\"()\\']|--|\\s)', text)\n",
    "        preprocessed = [item.strip() for item in preprocessed if item.strip()]\n",
    "        return [self.vocab.get(token, self.vocab[\"<|unk|>\"]) for token in preprocessed]\n",
    "\n",
    "    def decode(self, ids):\n",
    "        text = ' '.join([self.inverse_vocab[id] for id in ids])\n",
    "        text = re.sub(r'\\s+([,.:;?_!\"()\\'])', r'\\1', text)\n",
    "        return text\n",
    "\n",
    "tokenizerV2 = SimpleTokenizerV2(vocab)\n",
    "text1 = \"Hello, do you like tea?\"\n",
    "text2 = \"In the sunlit terraces of the palace.\"\n",
    "text = \" <|endoftext|> \".join((text1, text2))\n",
    "ids = tokenizerV2.encode(text)\n",
    "print(ids)\n",
    "decoded_text = tokenizerV2.decode(ids)\n",
    "print(decoded_text)\n"
   ],
   "id": "54496b82e79e7e22",
   "outputs": [
    {
     "name": "stdout",
     "output_type": "stream",
     "text": [
      "[1131, 5, 355, 1126, 628, 975, 10, 1130, 55, 988, 956, 984, 722, 988, 1131, 7]\n",
      "<|unk|>, do you like tea? <|endoftext|> In the sunlit terraces of the <|unk|>.\n"
     ]
    }
   ],
   "execution_count": 56
  },
  {
   "metadata": {},
   "cell_type": "markdown",
   "source": [
    "### BPE Tokenizer\n",
    "BPE could handle the unknown words in the text by split it into smaller tokens.\n",
    "\n",
    "BPE merge the most frequent pairs of tokens into a new token to make the vocabulary."
   ],
   "id": "55d467d2cf68a428"
  },
  {
   "metadata": {
    "ExecuteTime": {
     "end_time": "2025-10-31T05:47:42.347805Z",
     "start_time": "2025-10-31T05:47:42.338825Z"
    }
   },
   "cell_type": "code",
   "source": [
    "import tiktoken\n",
    "tokenizer = tiktoken.get_encoding(\"gpt2\")\n",
    "text = \"Aiwerkn oker\"\n",
    "ids = tokenizer.encode(text, allowed_special={\"<|endoftext|>\"})\n",
    "print(ids)\n",
    "for id in ids:\n",
    "    print(id, tokenizer.decode([id]))\n",
    "print(tokenizer.decode(ids))"
   ],
   "id": "cebd7becb1ac5db9",
   "outputs": [
    {
     "name": "stdout",
     "output_type": "stream",
     "text": [
      "[32, 14246, 9587, 77, 267, 6122]\n",
      "32 A\n",
      "14246 iw\n",
      "9587 erk\n",
      "77 n\n",
      "267  o\n",
      "6122 ker\n",
      "Aiwerkn oker\n"
     ]
    }
   ],
   "execution_count": 57
  },
  {
   "metadata": {},
   "cell_type": "markdown",
   "source": [
    "## Use Sliding Window to Create Input-Output Pairs\n",
    "### Read and Encode the Verdict"
   ],
   "id": "75b4d72d4d495fd7"
  },
  {
   "metadata": {
    "ExecuteTime": {
     "end_time": "2025-10-31T05:47:42.438730Z",
     "start_time": "2025-10-31T05:47:42.413841Z"
    }
   },
   "cell_type": "code",
   "source": [
    "file_path = \"./the-verdict.txt\"\n",
    "with open(file_path, \"r\") as file:\n",
    "    raw_text = file.read()\n",
    "enc_text = tokenizer.encode(raw_text, allowed_special={\"<|endoftext|>\"})\n",
    "print(len(enc_text))"
   ],
   "id": "c95e6e986b98f227",
   "outputs": [
    {
     "name": "stdout",
     "output_type": "stream",
     "text": [
      "5145\n"
     ]
    }
   ],
   "execution_count": 58
  },
  {
   "metadata": {},
   "cell_type": "markdown",
   "source": [
    "### Create Input-Output Pairs\n",
    "The input will be a sequence of tokens.\n",
    "\n",
    "The output will be the next token in the sequence."
   ],
   "id": "63b6c1a39352d381"
  },
  {
   "metadata": {
    "ExecuteTime": {
     "end_time": "2025-10-31T05:47:42.512251Z",
     "start_time": "2025-10-31T05:47:42.498761Z"
    }
   },
   "cell_type": "code",
   "source": [
    "enc_sample = enc_text[:10]\n",
    "context_size = 4\n",
    "x = enc_sample[:context_size]\n",
    "y = enc_sample[1:context_size + 1]\n",
    "\n",
    "for i in range(1, context_size + 1):\n",
    "    context = enc_sample[:i]\n",
    "    target = enc_sample[i]\n",
    "    print(context, \"->\", target)\n",
    "    print(tokenizer.decode(context), \"->\", tokenizer.decode([target]))"
   ],
   "id": "316d095a9cb58efa",
   "outputs": [
    {
     "name": "stdout",
     "output_type": "stream",
     "text": [
      "[40] -> 367\n",
      "I ->  H\n",
      "[40, 367] -> 2885\n",
      "I H -> AD\n",
      "[40, 367, 2885] -> 1464\n",
      "I HAD ->  always\n",
      "[40, 367, 2885, 1464] -> 1807\n",
      "I HAD always ->  thought\n"
     ]
    }
   ],
   "execution_count": 59
  },
  {
   "metadata": {},
   "cell_type": "markdown",
   "source": [
    "### DataSet and DataLoader\n",
    "We use the sliding window to create the input-output pairs.\n",
    "\n",
    "x is the input sequence of tokens, specifically `text[sample_start: sample_start + context_size]`.\n",
    "\n",
    "y is the target sequence of tokens, specifically `text[sample_start + 1: sample_start + context_size + 1]`.\n",
    "\n",
    "We could generate the input-output pairs from x and y as forementioned.\n",
    "\n",
    "DataSet is to store the tokenized text. DataLoader is to load the data in batches."
   ],
   "id": "2db3f57302f23929"
  },
  {
   "metadata": {
    "ExecuteTime": {
     "end_time": "2025-10-31T05:47:42.632813Z",
     "start_time": "2025-10-31T05:47:42.577628Z"
    }
   },
   "cell_type": "code",
   "source": [
    "import torch\n",
    "from torch.utils.data import Dataset, DataLoader\n",
    "\n",
    "class GPTDataSetV1(Dataset):\n",
    "    def __init__(self, txt, tokenizer, max_length, stride):\n",
    "        self.input_ids = []\n",
    "        self.target_ids = []\n",
    "\n",
    "        token_ids = tokenizer.encode(txt, allowed_special={\"<|endoftext|>\"})\n",
    "        # Use a sliding window to chunk the book into overlapping sequences of max_length\n",
    "        for i in range(0, len(token_ids) - max_length, stride):\n",
    "            input_chunk = token_ids[i:i + max_length]\n",
    "            target_chunk = token_ids[i + 1: i + max_length + 1]\n",
    "            self.input_ids.append(torch.tensor(input_chunk))\n",
    "            self.target_ids.append(torch.tensor(target_chunk))\n",
    "\n",
    "    def __len__(self):\n",
    "        return len(self.input_ids)\n",
    "\n",
    "    def __getitem__(self, idx):\n",
    "        return self.input_ids[idx], self.target_ids[idx]\n",
    "\n",
    "def create_dataloader_v1(txt, batch_size = 4, max_length = 256, stride = 128, shuffle = True, drop_last = True, num_workers = 0):\n",
    "    tokenizer = tiktoken.get_encoding(\"gpt2\")\n",
    "    dataset = GPTDataSetV1(txt, tokenizer, max_length, stride)\n",
    "    return DataLoader(dataset, batch_size = batch_size, shuffle = shuffle, drop_last = drop_last, num_workers = num_workers)\n",
    "\n",
    "file_path = \"./the-verdict.txt\"\n",
    "with open(file_path, \"r\") as file:\n",
    "    raw_text = file.read()\n",
    "\n",
    "dataLoader = create_dataloader_v1(raw_text, batch_size = 8, max_length = 4, stride = 4, shuffle = False, drop_last = True, num_workers = 0)\n",
    "data_iter = iter(dataLoader)\n",
    "first_batch = next(data_iter)\n",
    "print(first_batch)\n"
   ],
   "id": "5870736813c53745",
   "outputs": [
    {
     "name": "stdout",
     "output_type": "stream",
     "text": [
      "[tensor([[   40,   367,  2885,  1464],\n",
      "        [ 1807,  3619,   402,   271],\n",
      "        [10899,  2138,   257,  7026],\n",
      "        [15632,   438,  2016,   257],\n",
      "        [  922,  5891,  1576,   438],\n",
      "        [  568,   340,   373,   645],\n",
      "        [ 1049,  5975,   284,   502],\n",
      "        [  284,  3285,   326,    11]]), tensor([[  367,  2885,  1464,  1807],\n",
      "        [ 3619,   402,   271, 10899],\n",
      "        [ 2138,   257,  7026, 15632],\n",
      "        [  438,  2016,   257,   922],\n",
      "        [ 5891,  1576,   438,   568],\n",
      "        [  340,   373,   645,  1049],\n",
      "        [ 5975,   284,   502,   284],\n",
      "        [ 3285,   326,    11,   287]])]\n"
     ]
    }
   ],
   "execution_count": 60
  },
  {
   "metadata": {},
   "cell_type": "markdown",
   "source": [
    "## Embedding Layer\n",
    "\n",
    "### A Simple Embedding Layer\n",
    "As a simple example, we create an embedding layer.\n",
    "\n",
    "The embedding layer has two parameters:\n",
    "1. The vocabulary size, which is the number of unique tokens in the dataset.\n",
    "2. The embedding dimension, which is the size of the vector representation for each token.\n",
    "\n",
    "The embedding layer receives a tensor of token indices and returns a tensor of token embeddings.\n",
    "For example, the output dim is 5 and the num of tokens is 32, then it will return a tensor of shape (5, 32)."
   ],
   "id": "7e7c000ba4ab83f6"
  },
  {
   "metadata": {
    "ExecuteTime": {
     "end_time": "2025-10-31T05:47:42.796065Z",
     "start_time": "2025-10-31T05:47:42.669852Z"
    }
   },
   "cell_type": "code",
   "source": [
    "vocab_size = tokenizer.n_vocab\n",
    "output_dim = 256\n",
    "embedding_layer = torch.nn.Embedding(vocab_size, output_dim)\n",
    "\n",
    "print(embedding_layer(torch.tensor([3])))"
   ],
   "id": "19e756358679a889",
   "outputs": [
    {
     "name": "stdout",
     "output_type": "stream",
     "text": [
      "tensor([[ 9.3597e-03,  3.0292e-01, -7.8245e-01,  3.1204e-01,  2.4184e-01,\n",
      "          1.0521e+00,  9.5445e-01,  4.4050e-01,  5.6805e-02,  2.2422e-01,\n",
      "         -1.0624e-01,  8.0174e-01, -2.0032e+00,  2.1283e-01, -7.8109e-02,\n",
      "         -1.2559e+00,  6.9840e-01, -1.3709e+00, -8.4167e-01, -1.0686e+00,\n",
      "          2.1349e+00, -1.3881e-01,  1.1930e+00,  1.1629e+00, -5.7803e-01,\n",
      "          7.9315e-01,  1.2979e+00, -5.8399e-02,  7.5043e-01,  6.8632e-01,\n",
      "          4.6644e-01,  1.7545e+00, -7.6113e-02,  5.9238e-01,  1.0268e+00,\n",
      "         -6.7041e-01,  1.7584e-03,  8.9729e-01,  5.1414e-01,  1.3069e+00,\n",
      "          9.8313e-01,  1.4669e+00, -8.8847e-01, -2.3954e+00, -1.3900e+00,\n",
      "          1.7364e+00,  1.6687e-01, -1.0436e+00,  1.7365e+00,  4.9998e-02,\n",
      "         -1.1001e-01, -5.2164e-01,  1.3541e+00, -6.4290e-01,  1.0547e+00,\n",
      "         -3.1463e-01, -3.6410e-01, -1.7926e-02, -9.9834e-01,  4.5447e-01,\n",
      "         -3.7145e-01, -4.1177e-01,  1.2277e+00, -3.2087e-01,  1.3257e+00,\n",
      "          1.0080e+00,  4.1322e-01,  1.2918e+00, -6.0579e-01, -3.3075e-01,\n",
      "         -8.0245e-01, -5.9462e-01,  9.9102e-01,  7.6699e-01, -5.7582e-01,\n",
      "          5.6347e-01,  4.5940e-01,  3.4482e-01, -3.2293e-01, -1.4928e+00,\n",
      "          3.9240e-01,  1.1721e+00, -9.6142e-02,  1.2701e+00, -2.7852e-01,\n",
      "         -7.8803e-01, -1.1257e+00, -5.7618e-01,  4.0104e-01, -1.9203e+00,\n",
      "         -1.1329e+00,  9.5411e-01,  5.0050e-01,  1.3389e+00, -2.0864e+00,\n",
      "          1.9085e+00,  4.5215e-01, -1.2813e+00, -1.7318e+00, -7.3674e-01,\n",
      "         -3.8250e-01, -7.4044e-01,  3.9201e-01, -5.1111e-02, -9.5731e-01,\n",
      "          3.7052e-01, -2.1032e+00,  2.4260e-01, -8.2411e-01,  1.3504e+00,\n",
      "         -1.3965e+00, -7.9316e-01, -1.0835e+00,  4.8893e-01, -4.5066e-01,\n",
      "          2.4901e+00,  1.4179e+00,  4.5146e-01,  8.3313e-01,  6.5148e-01,\n",
      "         -1.5849e-01,  1.8695e+00, -9.8812e-01, -2.3889e+00, -4.0576e-01,\n",
      "         -1.2663e+00, -1.0059e+00, -8.1361e-01,  1.3599e+00,  1.8290e-01,\n",
      "         -1.1395e+00,  8.1416e-01, -2.9268e-01,  1.8425e+00, -1.1256e+00,\n",
      "         -1.2654e+00, -8.6903e-02, -4.2625e-02,  2.5046e-01,  1.5888e+00,\n",
      "          7.9706e-01, -1.0438e+00,  1.8174e-01, -1.9037e+00,  9.1566e-04,\n",
      "          7.2148e-01,  8.0220e-02, -1.6402e+00, -6.2865e-01, -1.9428e+00,\n",
      "         -1.0083e+00, -6.8010e-01, -7.9749e-02, -1.2446e+00,  9.9670e-01,\n",
      "          1.4327e+00, -1.6165e+00,  8.3657e-01,  2.4261e+00, -2.1743e+00,\n",
      "         -2.4293e-01,  6.0714e-01,  1.8027e+00, -9.6539e-01, -5.2184e-02,\n",
      "         -6.3888e-02, -2.3849e-01,  9.1624e-01,  1.5386e+00,  8.8562e-01,\n",
      "         -7.9273e-01,  4.8998e-01,  7.7864e-01,  8.0836e-01,  1.2775e+00,\n",
      "          2.4172e+00,  1.2099e+00,  9.2789e-01, -6.7015e-01,  1.2121e+00,\n",
      "          1.1291e+00, -1.0348e+00,  1.1613e+00, -2.2996e-01,  2.1380e+00,\n",
      "          1.6139e+00,  1.0223e-01,  1.2966e+00,  5.1812e-01,  6.1753e-01,\n",
      "          3.3775e-01, -2.5981e-01,  8.7382e-01, -1.8001e+00,  1.3601e+00,\n",
      "         -8.5009e-01,  8.0069e-01, -7.4856e-01, -3.0192e-01,  4.6596e-01,\n",
      "         -1.0834e+00,  9.9713e-01, -8.0741e-01,  9.4931e-01,  8.4646e-01,\n",
      "          3.8239e-01, -9.2242e-01, -5.5072e-01,  1.7160e-01, -1.1060e+00,\n",
      "         -9.8074e-01,  1.4555e+00, -1.5963e+00,  7.8070e-01, -1.3110e+00,\n",
      "         -1.2348e-01,  1.3210e+00,  9.6962e-01,  2.3598e-01,  7.2104e-01,\n",
      "          1.1377e+00,  4.2915e-01,  1.9372e+00,  1.5515e+00,  4.2885e-01,\n",
      "         -5.0577e-01, -7.2809e-01, -8.1446e-01, -1.7894e+00, -1.3420e+00,\n",
      "         -8.4322e-02, -4.0276e-01,  1.9681e-01, -4.8126e-01, -1.0668e+00,\n",
      "          1.2823e+00,  9.9318e-01, -7.3205e-01, -4.5236e-01, -3.7880e-01,\n",
      "          1.4561e+00, -2.3792e-01, -5.2323e-02, -1.8840e-01, -1.4425e+00,\n",
      "         -1.2875e+00,  6.8019e-01,  1.4899e+00,  1.1027e+00, -1.5442e-01,\n",
      "          8.1304e-01,  4.5722e-01,  3.9413e-01,  4.0813e-02, -1.6014e+00,\n",
      "          1.0081e+00]], grad_fn=<EmbeddingBackward0>)\n"
     ]
    }
   ],
   "execution_count": 61
  },
  {
   "metadata": {},
   "cell_type": "markdown",
   "source": [
    "### Positional Embedding\n",
    "Fixed embedding cannot capture the position of tokens in a sequence.\n",
    "\n",
    "Since the position of tokens does matter with the meaning of the sequence, we could use positional embedding to add the position information to the token embeddings.\n",
    "\n",
    "There are two positional embedding methods:\n",
    "1. Absolute positional embedding\n",
    "2. Relative positional embedding"
   ],
   "id": "7e69b68eba85d211"
  },
  {
   "metadata": {
    "ExecuteTime": {
     "end_time": "2025-10-31T05:47:42.870041Z",
     "start_time": "2025-10-31T05:47:42.830692Z"
    }
   },
   "cell_type": "code",
   "source": [
    "max_length = 4\n",
    "dataLoader = create_dataloader_v1(raw_text, batch_size = 8, max_length = max_length, stride = max_length, shuffle = False, drop_last = True, num_workers = 0)\n",
    "data_iter = iter(dataLoader)\n",
    "inputs, targets = next(data_iter)\n",
    "print(\"Input shape:\", inputs.shape)\n",
    "\n",
    "token_embeddings = embedding_layer(inputs)\n",
    "print(\"Input token embeddings shape:\", token_embeddings.shape)\n",
    "\n",
    "context_length = max_length\n",
    "pos_embedding_layer = torch.nn.Embedding(context_length, output_dim)\n",
    "pos_embeddings = pos_embedding_layer(torch.arange(context_length))\n",
    "print(\"Positional embeddings shape:\", pos_embeddings.shape)\n",
    "\n",
    "# add the positional embeddings to the token embeddings\n",
    "input_embeddings = token_embeddings + pos_embeddings\n",
    "print(\"Input embeddings shape with positional embeddings:\", input_embeddings.shape)\n"
   ],
   "id": "c37e74da05bba794",
   "outputs": [
    {
     "name": "stdout",
     "output_type": "stream",
     "text": [
      "Input shape: torch.Size([8, 4])\n",
      "Input token embeddings shape: torch.Size([8, 4, 256])\n",
      "Positional embeddings shape: torch.Size([4, 256])\n",
      "Input embeddings shape with positional embeddings: torch.Size([8, 4, 256])\n"
     ]
    }
   ],
   "execution_count": 62
  },
  {
   "metadata": {},
   "cell_type": "markdown",
   "source": [
    "# Attention Mechanism\n",
    "The attention mechanism means for each token in sequence, it will add a weighted sum of all tokens in the sequence, thus it could .\n",
    "\n",
    "We will compute the attention score for each token in the sequence.\n",
    "\n",
    "## Simple Attention Mechanism Without Trainable Parameters"
   ],
   "id": "f13dd5f4ebb4ff5e"
  },
  {
   "metadata": {
    "ExecuteTime": {
     "end_time": "2025-10-31T05:47:42.944060Z",
     "start_time": "2025-10-31T05:47:42.922719Z"
    }
   },
   "cell_type": "code",
   "source": [
    "inputs = torch.tensor(\n",
    "    [[0.43, 0.15, 0.89],\n",
    "    [0.55, 0.82, 0.63],\n",
    "    [0.22, 0.18, 0.05],\n",
    "    [0.76, 0.59, 0.92]]\n",
    ")\n",
    "\n",
    "# we assume that the attention score is the dot product of the query and the key\n",
    "# we will query the first token\n",
    "# attention score for the first token is 0.43*0.43 + 0.15*0.15 + 0.89*0.89\n",
    "# attention score for the second token is 0.55*0.43 + 0.82*0.15 + 0.63*0.89\n",
    "# attention score for the third token is 0.22*0.43 + 0.18*0.15 + 0.05*0.89\n",
    "# attention score for the fourth token is 0.76*0.43 + 0.59*0.15 + 0.92*0.89\n",
    "query = inputs[0]\n",
    "attn_scores_2 = torch.empty(inputs.shape[0])\n",
    "for i, x_i in enumerate(inputs):\n",
    "    attn_scores_2[i] = torch.dot(query, x_i)\n",
    "\n",
    "print(\"query.shape:\", query.shape)\n",
    "print(\"attn_scores_2.shape:\", attn_scores_2.shape)\n",
    "print(attn_scores_2)\n",
    "\n",
    "\n",
    "# then we normalize the attention scores to make them sum up to 1\n",
    "def softmax_naive(x):\n",
    "    exp_x = torch.exp(x)\n",
    "    return exp_x / torch.sum(exp_x)\n",
    "\n",
    "attn_weights_naive = softmax_naive(attn_scores_2)\n",
    "print(\"attn_weights_naive:\", attn_weights_naive)\n",
    "print(\"sum of attn_weights_naive:\", torch.sum(attn_weights_naive))\n",
    "\n",
    "attn_weights = torch.softmax(attn_scores_2, dim = 0)\n",
    "print(\"attn_weights:\", attn_weights)\n",
    "print(\"sum of attn_weights:\", torch.sum(attn_weights))\n",
    "\n",
    "# after we get the attention weights, we can compute the weighted sum of the values\n",
    "# the weighted sum of the values is the output of the attention mechanism\n",
    "context_vec_first = torch.zeros_like(query)\n",
    "for i, x_i in enumerate(inputs):\n",
    "    context_vec_first += attn_weights[i] * x_i\n",
    "\n",
    "print(\"context_vec of the first token:\", context_vec_first)\n",
    "\n",
    "# compute all context vectors\n",
    "attn_scores = torch.empty(inputs.shape[0], inputs.shape[0])\n",
    "for i, x_i in enumerate(inputs):\n",
    "    for j, x_j in enumerate(inputs):\n",
    "        attn_scores[i, j] = torch.dot(x_i, x_j)\n",
    "print(\"attn_scores:\", attn_scores)\n",
    "\n",
    "attn_scores = inputs @ inputs.T\n",
    "print(\"attn_scores:\", attn_scores)\n",
    "\n",
    "# then we normalize the attention scores, dim -1 means normalize along the last dimension\n",
    "attn_weights = torch.softmax(attn_scores, dim = -1)\n",
    "print(\"attn_weights:\", attn_weights)\n",
    "print(\"sum of attn_weights:\", torch.sum(attn_weights, dim = -1))\n"
   ],
   "id": "da19eff0291cfadb",
   "outputs": [
    {
     "name": "stdout",
     "output_type": "stream",
     "text": [
      "query.shape: torch.Size([3])\n",
      "attn_scores_2.shape: torch.Size([4])\n",
      "tensor([0.9995, 0.9202, 0.1661, 1.2341])\n",
      "attn_weights_naive: tensor([0.2760, 0.2550, 0.1200, 0.3490])\n",
      "sum of attn_weights_naive: tensor(1.)\n",
      "attn_weights: tensor([0.2760, 0.2550, 0.1200, 0.3490])\n",
      "sum of attn_weights: tensor(1.0000)\n",
      "context_vec of the first token: tensor([0.5506, 0.4780, 0.7334])\n",
      "attn_scores: tensor([[0.9995, 0.9202, 0.1661, 1.2341],\n",
      "        [0.9202, 1.3718, 0.3001, 1.4814],\n",
      "        [0.1661, 0.3001, 0.0833, 0.3194],\n",
      "        [1.2341, 1.4814, 0.3194, 1.7721]])\n",
      "attn_scores: tensor([[0.9995, 0.9202, 0.1661, 1.2341],\n",
      "        [0.9202, 1.3718, 0.3001, 1.4814],\n",
      "        [0.1661, 0.3001, 0.0833, 0.3194],\n",
      "        [1.2341, 1.4814, 0.3194, 1.7721]])\n",
      "attn_weights: tensor([[0.2760, 0.2550, 0.1200, 0.3490],\n",
      "        [0.2057, 0.3231, 0.1106, 0.3605],\n",
      "        [0.2364, 0.2703, 0.2176, 0.2756],\n",
      "        [0.2276, 0.2914, 0.0912, 0.3898]])\n",
      "sum of attn_weights: tensor([1.0000, 1.0000, 1.0000, 1.0000])\n"
     ]
    }
   ],
   "execution_count": 63
  },
  {
   "metadata": {},
   "cell_type": "markdown",
   "source": [
    "## Oringinal Transformer\n",
    "There are three trainable matrix:\n",
    "1. Query matrix\n",
    "2. Key matrix\n",
    "3. Value matrix\n",
    "\n",
    "We will use the query matrix to compute the attention score for each token in the sequence.\n",
    "\n",
    "### Calculation of Transformer\n",
    "$$\n",
    "queries = inputs @ W_query\n",
    "$$\n",
    "$$\n",
    "keys = inputs @ W_key\n",
    "$$\n",
    "$$\n",
    "values = inputs @ W_value\n",
    "$$\n",
    "\n",
    "\n",
    "The attention score from token i to token j equals queries[i] dot with keys[j].\n",
    "\n",
    "We use softmax to nomalize the attention score to attention weight.\n",
    "\n",
    "Then we use the weight[i, j] multiple with values[j] to get the contex vrctor[i, j]."
   ],
   "id": "622aba7286604517"
  },
  {
   "metadata": {
    "ExecuteTime": {
     "end_time": "2025-10-31T05:47:43.017782Z",
     "start_time": "2025-10-31T05:47:42.994917Z"
    }
   },
   "cell_type": "code",
   "source": [
    "input_dim = 3\n",
    "output_dim = 2\n",
    "\n",
    "torch.manual_seed(123)\n",
    "W_query = torch.randn(input_dim, output_dim)\n",
    "W_key = torch.randn(input_dim, output_dim)\n",
    "W_value = torch.randn(input_dim, output_dim)\n",
    "\n",
    "queries = inputs @ W_query\n",
    "keys = inputs @ W_key\n",
    "values = inputs @ W_value\n",
    "print(\"queries:\", queries)\n",
    "print(\"keys:\", keys)\n",
    "print(\"values:\", values)\n",
    "\n",
    "print(\"queries.shape:\", queries.shape)\n",
    "print(\"keys.shape\", keys.shape)\n",
    "print(\"values.shape\", values.shape)\n",
    "\n",
    "query_2 = queries[1]\n",
    "keys_2 = keys[1]\n",
    "attn_scores_2 = query_2 @ keys.T\n",
    "\n",
    "dim_k = keys.shape[-1]\n",
    "attn_weights_2 = torch.softmax(attn_scores_2 / dim_k**0.5, dim = -1)\n",
    "print(\"attn_weights_2:\", attn_weights_2)\n",
    "\n",
    "context_vec_2 = attn_weights_2 @ values\n",
    "print(\"context_vec_2\", context_vec_2)\n"
   ],
   "id": "10df03eba8a36a66",
   "outputs": [
    {
     "name": "stdout",
     "output_type": "stream",
     "text": [
      "queries: tensor([[-1.1686e+00,  2.0194e-01],\n",
      "        [-1.1185e+00,  8.9658e-04],\n",
      "        [-1.5090e-01, -6.3319e-03],\n",
      "        [-1.4040e+00,  1.4216e-01]])\n",
      "keys: tensor([[-0.1823, -0.6888],\n",
      "        [-0.1367, -0.7505],\n",
      "        [-0.1451, -0.2052],\n",
      "        [-0.3544, -0.9974]])\n",
      "values: tensor([[ 0.1196, -0.3566],\n",
      "        [ 0.3942,  0.6054],\n",
      "        [ 0.1133,  0.2772],\n",
      "        [ 0.3512,  0.2643]])\n",
      "queries.shape: torch.Size([4, 2])\n",
      "keys.shape torch.Size([4, 2])\n",
      "values.shape torch.Size([4, 2])\n",
      "attn_weights_2: tensor([0.2450, 0.2363, 0.2380, 0.2807])\n",
      "context_vec_2 tensor([0.2480, 0.1958])\n"
     ]
    }
   ],
   "execution_count": 64
  },
  {
   "metadata": {},
   "cell_type": "markdown",
   "source": "Then we extend the calculation to the whole token serial.",
   "id": "ed218b417ba627de"
  },
  {
   "metadata": {
    "ExecuteTime": {
     "end_time": "2025-10-31T05:47:43.103349Z",
     "start_time": "2025-10-31T05:47:43.095427Z"
    }
   },
   "cell_type": "code",
   "source": [
    "attn_scores = queries @ keys.T\n",
    "print(\"attn_scores:\", attn_scores)\n",
    "attn_weights = torch.softmax(attn_scores, dim = -1)\n",
    "print(\"attn_weights:\", attn_weights)"
   ],
   "id": "62650b92b9ff6d69",
   "outputs": [
    {
     "name": "stdout",
     "output_type": "stream",
     "text": [
      "attn_scores: tensor([[0.0740, 0.0082, 0.1281, 0.2127],\n",
      "        [0.2033, 0.1522, 0.1621, 0.3955],\n",
      "        [0.0319, 0.0254, 0.0232, 0.0598],\n",
      "        [0.1581, 0.0852, 0.1745, 0.3557]])\n",
      "attn_weights: tensor([[0.2415, 0.2261, 0.2549, 0.2774],\n",
      "        [0.2426, 0.2305, 0.2328, 0.2940],\n",
      "        [0.2492, 0.2476, 0.2470, 0.2562],\n",
      "        [0.2401, 0.2232, 0.2441, 0.2926]])\n"
     ]
    }
   ],
   "execution_count": 65
  },
  {
   "metadata": {},
   "cell_type": "markdown",
   "source": "### A Simple Self Attention Class",
   "id": "36527754ab7c55d"
  },
  {
   "metadata": {
    "ExecuteTime": {
     "end_time": "2025-10-31T05:56:01.809872Z",
     "start_time": "2025-10-31T05:56:01.794790Z"
    }
   },
   "cell_type": "code",
   "source": [
    "import torch.nn as nn\n",
    "class SelfAttention_v1(nn.Module):\n",
    "    def __init__(self, d_in, d_out):\n",
    "        super().__init__()\n",
    "        self.W_query = nn.Parameter(torch.randn(d_in, d_out))\n",
    "        self.W_key = nn.Parameter(torch.randn(d_in, d_out))\n",
    "        self.W_value = nn.Parameter(torch.randn(d_in, d_out))\n",
    "\n",
    "    def forward(self, x):\n",
    "        keys = x @ self.W_key\n",
    "        queries = x @ self.W_query\n",
    "        values = x @ self.W_value\n",
    "\n",
    "        attn_scores = queries @ keys.T\n",
    "        attn_weights = torch.softmax(attn_scores / keys.shape[-1]**0.5, dim = -1)\n",
    "        context_vec = attn_weights @ values\n",
    "        return context_vec\n",
    "\n",
    "# use linear layer\n",
    "class SelfAttention_v2(nn.Module):\n",
    "    def __init__(self, d_in, d_out, qkv_bias = False):\n",
    "        super().__init__()\n",
    "        self.W_query = nn.Linear(d_in, d_out, bias=qkv_bias)\n",
    "        self.W_key = nn.Linear(d_in, d_out, bias=qkv_bias)\n",
    "        self.W_value = nn.Linear(d_in, d_out, bias=qkv_bias)\n",
    "\n",
    "    def forward(self, x):\n",
    "        keys = self.W_key(x)\n",
    "        queries = self.W_query(x)\n",
    "        values = self.W_value(x)\n",
    "\n",
    "        attn_scores = queries @ keys.T\n",
    "        attn_weights = torch.softmax(attn_scores / keys.shape[-1]**0.5, dim = -1)\n",
    "        context_vec = attn_weights @ values\n",
    "        return context_vec\n",
    "\n",
    "    def __str__(self):\n",
    "        name = \"SelfAttention_v2\"\n",
    "        wquery = W_query.__str__()\n",
    "        wkey = W_key.__str__()\n",
    "        wvalue = W_value.__str__()\n",
    "        return name + \"\\n W_query:\" + wquery + \"\\n W_key:\" + wkey + \"\\n W_value:\" + wvalue + \"\\n\""
   ],
   "id": "8c977e1c9ec8e7fd",
   "outputs": [],
   "execution_count": 73
  },
  {
   "metadata": {
    "ExecuteTime": {
     "end_time": "2025-10-31T05:56:06.579669Z",
     "start_time": "2025-10-31T05:56:06.556291Z"
    }
   },
   "cell_type": "code",
   "source": [
    "torch.manual_seed(789)\n",
    "sa_v2 = SelfAttention_v2(input_dim, output_dim)\n",
    "print(sa_v2(inputs))\n",
    "\n",
    "print(sa_v2.__str__())"
   ],
   "id": "e638c40b30e127e7",
   "outputs": [
    {
     "name": "stdout",
     "output_type": "stream",
     "text": [
      "tensor([[-0.0621,  0.0899],\n",
      "        [-0.0636,  0.0900],\n",
      "        [-0.0608,  0.0901],\n",
      "        [-0.0637,  0.0899]], grad_fn=<MmBackward0>)\n",
      "SelfAttention_v2\n",
      " W_query:tensor([[-0.1115,  0.1204],\n",
      "        [-0.3696, -0.2404],\n",
      "        [-1.1969,  0.2093]])\n",
      " W_key:tensor([[-0.9724, -0.7550],\n",
      "        [ 0.3239, -0.1085],\n",
      "        [ 0.2103, -0.3908]])\n",
      " W_value:tensor([[ 0.2350,  0.6653],\n",
      "        [ 0.3528,  0.9728],\n",
      "        [-0.0386, -0.8861]])\n",
      "\n"
     ]
    }
   ],
   "execution_count": 74
  },
  {
   "metadata": {},
   "cell_type": "markdown",
   "source": [
    "### Practice to Transfer V2 Parameter to V1\n",
    "nn.Linear is the transpose of tensor, it's Tensor(output_dim, input_dim)\n",
    "\n",
    "This is because in the matrix multiply, the matrix 2 is visited by col and col, transpose it will make the memory visit continuously, thus increase the usage of hardware cache."
   ],
   "id": "e47548d9cd49f548"
  },
  {
   "metadata": {
    "ExecuteTime": {
     "end_time": "2025-10-31T06:03:23.362678Z",
     "start_time": "2025-10-31T06:03:23.340199Z"
    }
   },
   "cell_type": "code",
   "source": [
    "sa_v1 = SelfAttention_v1(input_dim, output_dim)\n",
    "sa_v1.W_value = nn.Parameter(sa_v2.W_value.weight.T)\n",
    "sa_v1.W_query = nn.Parameter(sa_v2.W_query.weight.T)\n",
    "sa_v1.W_key = nn.Parameter(sa_v2.W_key.weight.T)\n",
    "\n",
    "print(\"sa_v1 output:\", sa_v1(inputs))\n",
    "print(\"sa_v2 output:\", sa_v2(inputs))"
   ],
   "id": "61e99634e14e9ed7",
   "outputs": [
    {
     "name": "stdout",
     "output_type": "stream",
     "text": [
      "sa_v1 output: tensor([[-0.0621,  0.0899],\n",
      "        [-0.0636,  0.0900],\n",
      "        [-0.0608,  0.0901],\n",
      "        [-0.0637,  0.0899]], grad_fn=<MmBackward0>)\n",
      "sa_v2 output: tensor([[-0.0621,  0.0899],\n",
      "        [-0.0636,  0.0900],\n",
      "        [-0.0608,  0.0901],\n",
      "        [-0.0637,  0.0899]], grad_fn=<MmBackward0>)\n"
     ]
    }
   ],
   "execution_count": 83
  }
 ],
 "metadata": {
  "kernelspec": {
   "display_name": "Python 3",
   "language": "python",
   "name": "python3"
  },
  "language_info": {
   "codemirror_mode": {
    "name": "ipython",
    "version": 2
   },
   "file_extension": ".py",
   "mimetype": "text/x-python",
   "name": "python",
   "nbconvert_exporter": "python",
   "pygments_lexer": "ipython2",
   "version": "2.7.6"
  }
 },
 "nbformat": 4,
 "nbformat_minor": 5
}
